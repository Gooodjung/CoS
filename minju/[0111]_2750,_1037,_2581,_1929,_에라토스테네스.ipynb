{
  "nbformat": 4,
  "nbformat_minor": 0,
  "metadata": {
    "colab": {
      "provenance": []
    },
    "kernelspec": {
      "name": "python3",
      "display_name": "Python 3"
    },
    "language_info": {
      "name": "python"
    }
  },
  "cells": [
    {
      "cell_type": "markdown",
      "source": [
        "# 수 정렬하기, 약수 개수, 소수 개수"
      ],
      "metadata": {
        "id": "oEO_4L7u_ptb"
      }
    },
    {
      "cell_type": "code",
      "execution_count": null,
      "metadata": {
        "colab": {
          "base_uri": "https://localhost:8080/"
        },
        "id": "PIVvFlBE4GiI",
        "outputId": "7680a151-7922-48d8-b921-5d78735af159"
      },
      "outputs": [
        {
          "output_type": "stream",
          "name": "stdout",
          "text": [
            "5\n",
            "5\n",
            "2\n",
            "3\n",
            "4\n",
            "1\n",
            "1\n",
            "2\n",
            "3\n",
            "4\n",
            "5\n"
          ]
        }
      ],
      "source": [
        "#2750. 수 정렬하기\n",
        "\n",
        "n = int(input())\n",
        "# 입력 받을 수\n",
        "li = []\n",
        "# n개의 입력되는 정수 받을 리스트 생성\n",
        "\n",
        "for i in range(n):\n",
        "  li.append(input())\n",
        "# 이후 입력되는 값들 리스트에 append\n",
        "\n",
        "li.sort()\n",
        "# 리스트 정렬\n",
        "\n",
        "for i in li:\n",
        "  print(i)\n",
        "\n",
        "# 리스트 내의 원소 for문 통해 하나씩 print  "
      ]
    },
    {
      "cell_type": "code",
      "source": [
        "#1037 약수 개수\n",
        "\n",
        "n = int(input())\n",
        "\n",
        "k = list(map(int, input().split()))\n",
        "\n",
        "print(max(k)*min(k)) "
      ],
      "metadata": {
        "colab": {
          "base_uri": "https://localhost:8080/"
        },
        "id": "m_o6h0OH4dIi",
        "outputId": "3018608c-f3d4-4e63-8ee3-1816897a3297"
      },
      "execution_count": 1,
      "outputs": [
        {
          "output_type": "stream",
          "name": "stdout",
          "text": [
            "3\n",
            "2 3 4\n",
            "8\n"
          ]
        }
      ]
    },
    {
      "cell_type": "markdown",
      "source": [
        "# 소수의 정의\n",
        "\n",
        "- 소수란 : '양의 약수를 두 개만 가지는 자연수'\n",
        "\n",
        "- 자기자신 % [2, 자기자신-1] 을 했을 때 나머지가 0이 되는 수가 하나도 없는 수"
      ],
      "metadata": {
        "id": "2cA7Ku0f_oVS"
      }
    },
    {
      "cell_type": "code",
      "source": [
        "# 소수 판별 알고리즘 \n",
        "# 1. 어느 수까지 판별하는 수를 나눠서 나머지가 0이 안나오면 소수로 인정\n",
        "# 2. 해당 숫자의 절반까지만 확인하는 방법\n",
        "# 에라토스테네스의 체"
      ],
      "metadata": {
        "id": "6A3j3wIK69w_"
      },
      "execution_count": null,
      "outputs": []
    },
    {
      "cell_type": "markdown",
      "source": [
        "## 2581. 소수 \n",
        "\n",
        "- 자연수 M과 N이 주어질 때 M이상 N이하의 자연수 중 소수인 것을 모두 골라 이들 소수의 합과 최솟값을 찾는 프로그램을 작성하시오.\n",
        "\n",
        "- 예를 들어 M=60, N=100인 경우 60이상 100이하의 자연수 중 소수는 61, 67, 71, 73, 79, 83, 89, 97 총 8개가 있으므로, 이들 소수의 합은 620이고, 최솟값은 61이 된다."
      ],
      "metadata": {
        "id": "8qTtfg1pStts"
      }
    },
    {
      "cell_type": "code",
      "source": [
        "n = int(input())\n",
        "m = int(input())\n",
        "\n",
        "li = []\n",
        "\n",
        "for i in range(n,m+1):\n",
        "  for j in range(2, i+1):\n",
        "    if i == j:\n",
        "      li.append(i)\n",
        "    if i%j==0:\n",
        "      break  \n",
        "\n",
        "li.sort()\n",
        "\n",
        "if len(li)>0:\n",
        "  print(sum(li))\n",
        "  print(li[0])\n",
        "\n",
        "else:\n",
        "  print(-1)  \n"
      ],
      "metadata": {
        "colab": {
          "base_uri": "https://localhost:8080/"
        },
        "id": "V5ar4PEb8DH0",
        "outputId": "0e091b4d-b08f-427e-ad7a-7b9c4a6f7f80"
      },
      "execution_count": null,
      "outputs": [
        {
          "output_type": "stream",
          "name": "stdout",
          "text": [
            "60\n",
            "100\n",
            "620\n",
            "61\n"
          ]
        }
      ]
    },
    {
      "cell_type": "markdown",
      "source": [
        "## 백준 1929 \n",
        "- 첫째 줄에 자연수 M과 N이 빈 칸을 사이에 두고 주어진다. (1 ≤ M ≤ N ≤ 1,000,000) M이상 N이하의 소수가 하나 이상 있는 입력만 주어진다."
      ],
      "metadata": {
        "id": "C1fLbyWjS3GE"
      }
    },
    {
      "cell_type": "code",
      "source": [
        "m, n = map(int, input().split())\n",
        "\n",
        "li = []\n",
        "\n",
        "for i in range(m,n+1):\n",
        "  for j in range(2, i+1):\n",
        "    if i==j:\n",
        "      li.append(i)\n",
        "    if i%j==0:\n",
        "      break\n",
        "for i in li:\n",
        "  print(i)\n",
        "      \n",
        "# 시간초과\n"
      ],
      "metadata": {
        "colab": {
          "base_uri": "https://localhost:8080/"
        },
        "id": "odJnmYC08prK",
        "outputId": "3c8cf49e-f7be-4dba-e322-9f39ccde3fb1"
      },
      "execution_count": 3,
      "outputs": [
        {
          "output_type": "stream",
          "name": "stdout",
          "text": [
            "3 16\n",
            "3\n",
            "5\n",
            "7\n",
            "11\n",
            "13\n"
          ]
        }
      ]
    },
    {
      "cell_type": "markdown",
      "source": [
        "## 시간 초과를 해결할 수 있는 방법\n",
        "\n",
        "#### 1. 소수의 대칭성 활용 ex. 2 4 / 4 2 -> 제곱근까지만 판별\n",
        "\n",
        "#### 2. 에라토스테네스의 체"
      ],
      "metadata": {
        "id": "jp4-66JUTmyb"
      }
    },
    {
      "cell_type": "code",
      "source": [
        "m, n = map(int, input().split())\n",
        "k = int(n**0.5)\n",
        "\n",
        "li = []\n",
        "\n",
        "for i in range(m,n+1):\n",
        "  for j in range(2, k+1):\n",
        "    if i==j:\n",
        "      li.append(i)\n",
        "    if i%j==0:\n",
        "      break\n",
        "for i in li:\n",
        "  print(i)\n",
        "      \n",
        "# 시간초과"
      ],
      "metadata": {
        "colab": {
          "base_uri": "https://localhost:8080/"
        },
        "id": "QqDdN8pK-Qhm",
        "outputId": "cfac9a80-5a82-483b-8072-f6d7ff77b8e9"
      },
      "execution_count": 4,
      "outputs": [
        {
          "output_type": "stream",
          "name": "stdout",
          "text": [
            "3 16\n",
            "3\n"
          ]
        }
      ]
    },
    {
      "cell_type": "markdown",
      "source": [
        "# 에라토스테네스의 체\n",
        "\n",
        "- 2부터 소수를 구하고자 하는 구간의 모든 수를 나열한다.\n",
        "\n",
        "![image.png](data:image/png;base64,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)\n",
        "\n",
        "- 2부터 시작해서 나열된 수에서 지워지지 않은 수 중 가장 작은 2를 소수로 선택하고 2의 배수를 지운다.\n",
        "- 3도 지워지지 않았기 때문에 소수로 선택하고 3의 배수를 지운다.\n",
        "- 4는 지워졌기 때문에 넘어가고 5를 소수로 선택하고 5의 배수를 지운다.\n",
        "- 2,3,4와 같은 과정을 반복한다.\n",
        "- 반복이 끝나면 지워지지 않은 수들을 소수로 출력한다."
      ],
      "metadata": {
        "id": "VLWzjMulEDH-"
      }
    },
    {
      "cell_type": "code",
      "source": [
        "m,n = map(int,input().split())\n",
        "k = n**0.5\n",
        "l = [True for i in range(n + 1)] # 처음엔 모든 수가 소수(True)인 것으로 초기화\n",
        "\n",
        "for i in range(2, int(k + 1)): # 2부터 n의 제곱근까지\n",
        "    if l[i] == True: # i가 소수인 경우 (남은 수인 경우)\n",
        "        # i를 제외한 i의 모든 배수를 지우기\n",
        "        j = 2 \n",
        "        while i * j <= n:\n",
        "            l[i * j] = False\n",
        "            j += 1\n",
        "\n",
        "# 모든 소수 출력\n",
        "for i in range(m, n + 1):\n",
        "    if l[i]:\n",
        "        if i != 1:\n",
        "            print(i)"
      ],
      "metadata": {
        "id": "V9FTlA7VDrvw",
        "colab": {
          "base_uri": "https://localhost:8080/"
        },
        "outputId": "b5c623e1-79fc-4787-945c-40bcbdceb374"
      },
      "execution_count": 2,
      "outputs": [
        {
          "output_type": "stream",
          "name": "stdout",
          "text": [
            "3 16\n",
            "3\n",
            "5\n",
            "7\n",
            "11\n",
            "13\n"
          ]
        }
      ]
    },
    {
      "cell_type": "code",
      "source": [],
      "metadata": {
        "id": "pKXyzD9wCD22"
      },
      "execution_count": null,
      "outputs": []
    }
  ]
}