{
  "nbformat": 4,
  "nbformat_minor": 0,
  "metadata": {
    "colab": {
      "provenance": [],
      "authorship_tag": "ABX9TyMrx/Z0qYL1hS2gD0EDE3pT",
      "include_colab_link": true
    },
    "kernelspec": {
      "name": "python3",
      "display_name": "Python 3"
    },
    "language_info": {
      "name": "python"
    }
  },
  "cells": [
    {
      "cell_type": "markdown",
      "metadata": {
        "id": "view-in-github",
        "colab_type": "text"
      },
      "source": [
        "<a href=\"https://colab.research.google.com/github/forminju/CoS/blob/main/minju/%5B0117%5D_2839.ipynb\" target=\"_parent\"><img src=\"https://colab.research.google.com/assets/colab-badge.svg\" alt=\"Open In Colab\"/></a>"
      ]
    },
    {
      "cell_type": "markdown",
      "source": [
        "# 2839"
      ],
      "metadata": {
        "id": "ghHIA7AbDyg4"
      }
    },
    {
      "cell_type": "markdown",
      "source": [
        "- 18 = 5 / 5 / 5 / 3\n",
        "- 19 = 5 / 5 / 3 / 3 / 3\n",
        "\n",
        "\n",
        "- 5의 배수로 나누어 떨어질 때까지 3씩 빼주기\n",
        "\n"
      ],
      "metadata": {
        "id": "TTTo4n3VFwib"
      }
    },
    {
      "cell_type": "code",
      "execution_count": 4,
      "metadata": {
        "colab": {
          "base_uri": "https://localhost:8080/"
        },
        "id": "SFKlWjNsDr3H",
        "outputId": "fcbc6c0e-61e4-4ad0-8694-35782f85442d"
      },
      "outputs": [
        {
          "output_type": "stream",
          "name": "stdout",
          "text": [
            "18\n",
            "4\n"
          ]
        }
      ],
      "source": [
        "N = int(input())\n",
        "count = 0\n",
        "while True: ## 조건 : 5의 배수로 나누어 떨어질 때까지\n",
        "    if(N%5)==0: \n",
        "        count += (N//5) \n",
        "        print(count)\n",
        "        break\n",
        "    N-=3 ## 과정 : 3씩 빼주기\n",
        "    count+=1 # 봉지 개수 추가\n",
        "    if(N<0):\n",
        "        print(\"-1\")\n",
        "        break"
      ]
    },
    {
      "cell_type": "code",
      "source": [
        "1"
      ],
      "metadata": {
        "id": "zeV8JuYLGD4C"
      },
      "execution_count": 1,
      "outputs": []
    }
  ]
}