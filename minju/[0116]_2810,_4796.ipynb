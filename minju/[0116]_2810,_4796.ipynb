{
  "nbformat": 4,
  "nbformat_minor": 0,
  "metadata": {
    "colab": {
      "provenance": [],
      "authorship_tag": "ABX9TyOtB+JDvXj2JROyIx/Y3Fag",
      "include_colab_link": true
    },
    "kernelspec": {
      "name": "python3",
      "display_name": "Python 3"
    },
    "language_info": {
      "name": "python"
    }
  },
  "cells": [
    {
      "cell_type": "markdown",
      "metadata": {
        "id": "view-in-github",
        "colab_type": "text"
      },
      "source": [
        "<a href=\"https://colab.research.google.com/github/forminju/CoS/blob/main/minju/%5B0116%5D_2810%2C_4796.ipynb\" target=\"_parent\"><img src=\"https://colab.research.google.com/assets/colab-badge.svg\" alt=\"Open In Colab\"/></a>"
      ]
    },
    {
      "cell_type": "code",
      "execution_count": 1,
      "metadata": {
        "id": "oPx8H11I6yoD"
      },
      "outputs": [],
      "source": [
        "# 2810\n",
        "# 서로 인접한 좌석 사이에는 컵 홀더가 하나씩 있고, 양 끝 좌석에는 컴홀더가 하나씩 더\n",
        "# 커플석 사이에는 컵 홀더가 없다\n",
        "# * S *  LL *   LL *  S * S * LL *  사람은 9명 (S*3 + LL*3) 컵홀더는 7개\n",
        "# *     S *     S * S *    커플석 X -> 사람 수만큼 컵 홀더 사용 가능(S*3) \n",
        "# * S * L L * S * 시림은 4명 컵홀더는 4개(S*2 + LL*2)\n",
        "# * S * L L * L L * S * S * L L * "
      ]
    },
    {
      "cell_type": "markdown",
      "source": [
        "- <1> L 이 없는 경우\n",
        "\n",
        " n / S  n / S  n / S  n /\n",
        "\n",
        "\n",
        " - <2> L 이 중간에\n",
        "\n",
        " n / S n / LL n / LL n / S n / LL n /\n",
        "   - LL을 하나로 인식하면 될 것 같은데?\n",
        "   -countLL 로 두 개씩 인식하는 건 안된다\n",
        "   - countL 한 다음에 /2\n",
        "\n",
        "- <3> L 이 끝 쪽에\n",
        "\n",
        "  n / L L n / S n / L L n /"
      ],
      "metadata": {
        "id": "zTofeFva98oQ"
      }
    },
    {
      "cell_type": "code",
      "source": [
        "n = int(input())\n",
        "m = input()\n",
        "countS =0\n",
        "countL = 0\n",
        "ans = 0\n",
        "\n",
        "for i in range(n):\n",
        "  if m[i] == 'L':\n",
        "    countL+=1\n",
        "  else:\n",
        "    countS +=1\n",
        "\n",
        "ans = countL//2+countS+1\n",
        "\n",
        "ansf = min(n, ans)\n",
        "\n",
        "print(ansf)\n",
        "\n",
        "        \n"
      ],
      "metadata": {
        "colab": {
          "base_uri": "https://localhost:8080/"
        },
        "id": "g_REreER7YoW",
        "outputId": "11cb1dec-dd99-411c-94fc-8b8f9eb7b3a2"
      },
      "execution_count": 4,
      "outputs": [
        {
          "output_type": "stream",
          "name": "stdout",
          "text": [
            "9\n",
            "SLLLLSSLL\n",
            "7\n"
          ]
        }
      ]
    },
    {
      "cell_type": "code",
      "source": [
        "# 4796\n",
        "\n",
        "# 캠핑장은 연속하는 20일 중 10일만 사용할 수 있다\n",
        "# 연속하는 P일 중 L일동안 사용 가능 -> 강산이는 이제 막 V일짜리 휴가 시작, 최대 며칠 사용 가능\n",
        "# 1 < L < P < V\n",
        "# 연속하는 8일 중 5일 사용 가능, 20일 휴가\n",
        "# 8(5) / 8(5) / 4(4) = 5+5+4\n",
        "# 20 // 8 = 2 \n",
        "# 20 % 8 = 1\n",
        "# 5 * 2 + 1\n",
        "# 연속하는 8일 중 5일 사용 가능 , 17일 휴가\n",
        "# 8(5) / 8(5) / 1(1)\n",
        "\n",
        "# (V // P)*L + (V%P)\n",
        "\n",
        "# 0 0 0 나오면 stop"
      ],
      "metadata": {
        "id": "IUceTTSX-61a"
      },
      "execution_count": 5,
      "outputs": []
    },
    {
      "cell_type": "code",
      "source": [
        "cnt = 0\n",
        "while True:\n",
        "  cnt+=1\n",
        "  L, P, V = map(int, input().split())\n",
        "  if L ==0 and P==0 and V ==0:\n",
        "    break\n",
        "\n",
        "  m = V //P\n",
        "  n = V % P\n",
        "  ans = m*L + n    \n",
        "  \n",
        "  print(\"Case %d: %d\" %(i, ans))"
      ],
      "metadata": {
        "colab": {
          "base_uri": "https://localhost:8080/",
          "height": 453
        },
        "id": "wmWk54MhBaDr",
        "outputId": "56e8d228-693b-4c51-c440-e07a4eaf586d"
      },
      "execution_count": 7,
      "outputs": [
        {
          "metadata": {
            "tags": null
          },
          "name": "stdout",
          "output_type": "stream",
          "text": [
            "Case 8: 14\n",
            "Case 8: 11\n"
          ]
        },
        {
          "output_type": "error",
          "ename": "KeyboardInterrupt",
          "evalue": "ignored",
          "traceback": [
            "\u001b[0;31m---------------------------------------------------------------------------\u001b[0m",
            "\u001b[0;31mKeyboardInterrupt\u001b[0m                         Traceback (most recent call last)",
            "\u001b[0;32m<ipython-input-7-7ecec3b765cf>\u001b[0m in \u001b[0;36m<module>\u001b[0;34m\u001b[0m\n\u001b[1;32m      2\u001b[0m \u001b[0;32mwhile\u001b[0m \u001b[0;32mTrue\u001b[0m\u001b[0;34m:\u001b[0m\u001b[0;34m\u001b[0m\u001b[0;34m\u001b[0m\u001b[0m\n\u001b[1;32m      3\u001b[0m   \u001b[0mcnt\u001b[0m\u001b[0;34m+=\u001b[0m\u001b[0;36m1\u001b[0m\u001b[0;34m\u001b[0m\u001b[0;34m\u001b[0m\u001b[0m\n\u001b[0;32m----> 4\u001b[0;31m   \u001b[0mL\u001b[0m\u001b[0;34m,\u001b[0m \u001b[0mP\u001b[0m\u001b[0;34m,\u001b[0m \u001b[0mV\u001b[0m \u001b[0;34m=\u001b[0m \u001b[0mmap\u001b[0m\u001b[0;34m(\u001b[0m\u001b[0mint\u001b[0m\u001b[0;34m,\u001b[0m \u001b[0minput\u001b[0m\u001b[0;34m(\u001b[0m\u001b[0;34m)\u001b[0m\u001b[0;34m.\u001b[0m\u001b[0msplit\u001b[0m\u001b[0;34m(\u001b[0m\u001b[0;34m)\u001b[0m\u001b[0;34m)\u001b[0m\u001b[0;34m\u001b[0m\u001b[0;34m\u001b[0m\u001b[0m\n\u001b[0m\u001b[1;32m      5\u001b[0m   \u001b[0;32mif\u001b[0m \u001b[0mL\u001b[0m \u001b[0;34m==\u001b[0m\u001b[0;36m0\u001b[0m \u001b[0;32mand\u001b[0m \u001b[0mP\u001b[0m\u001b[0;34m==\u001b[0m\u001b[0;36m0\u001b[0m \u001b[0;32mand\u001b[0m \u001b[0mV\u001b[0m \u001b[0;34m==\u001b[0m\u001b[0;36m0\u001b[0m\u001b[0;34m:\u001b[0m\u001b[0;34m\u001b[0m\u001b[0;34m\u001b[0m\u001b[0m\n\u001b[1;32m      6\u001b[0m     \u001b[0;32mbreak\u001b[0m\u001b[0;34m\u001b[0m\u001b[0;34m\u001b[0m\u001b[0m\n",
            "\u001b[0;32m/usr/local/lib/python3.8/dist-packages/ipykernel/kernelbase.py\u001b[0m in \u001b[0;36mraw_input\u001b[0;34m(self, prompt)\u001b[0m\n\u001b[1;32m    858\u001b[0m                 \u001b[0;34m\"raw_input was called, but this frontend does not support input requests.\"\u001b[0m\u001b[0;34m\u001b[0m\u001b[0;34m\u001b[0m\u001b[0m\n\u001b[1;32m    859\u001b[0m             )\n\u001b[0;32m--> 860\u001b[0;31m         return self._input_request(str(prompt),\n\u001b[0m\u001b[1;32m    861\u001b[0m             \u001b[0mself\u001b[0m\u001b[0;34m.\u001b[0m\u001b[0m_parent_ident\u001b[0m\u001b[0;34m,\u001b[0m\u001b[0;34m\u001b[0m\u001b[0;34m\u001b[0m\u001b[0m\n\u001b[1;32m    862\u001b[0m             \u001b[0mself\u001b[0m\u001b[0;34m.\u001b[0m\u001b[0m_parent_header\u001b[0m\u001b[0;34m,\u001b[0m\u001b[0;34m\u001b[0m\u001b[0;34m\u001b[0m\u001b[0m\n",
            "\u001b[0;32m/usr/local/lib/python3.8/dist-packages/ipykernel/kernelbase.py\u001b[0m in \u001b[0;36m_input_request\u001b[0;34m(self, prompt, ident, parent, password)\u001b[0m\n\u001b[1;32m    902\u001b[0m             \u001b[0;32mexcept\u001b[0m \u001b[0mKeyboardInterrupt\u001b[0m\u001b[0;34m:\u001b[0m\u001b[0;34m\u001b[0m\u001b[0;34m\u001b[0m\u001b[0m\n\u001b[1;32m    903\u001b[0m                 \u001b[0;31m# re-raise KeyboardInterrupt, to truncate traceback\u001b[0m\u001b[0;34m\u001b[0m\u001b[0;34m\u001b[0m\u001b[0;34m\u001b[0m\u001b[0m\n\u001b[0;32m--> 904\u001b[0;31m                 \u001b[0;32mraise\u001b[0m \u001b[0mKeyboardInterrupt\u001b[0m\u001b[0;34m(\u001b[0m\u001b[0;34m\"Interrupted by user\"\u001b[0m\u001b[0;34m)\u001b[0m \u001b[0;32mfrom\u001b[0m \u001b[0;32mNone\u001b[0m\u001b[0;34m\u001b[0m\u001b[0;34m\u001b[0m\u001b[0m\n\u001b[0m\u001b[1;32m    905\u001b[0m             \u001b[0;32mexcept\u001b[0m \u001b[0mException\u001b[0m \u001b[0;32mas\u001b[0m \u001b[0me\u001b[0m\u001b[0;34m:\u001b[0m\u001b[0;34m\u001b[0m\u001b[0;34m\u001b[0m\u001b[0m\n\u001b[1;32m    906\u001b[0m                 \u001b[0mself\u001b[0m\u001b[0;34m.\u001b[0m\u001b[0mlog\u001b[0m\u001b[0;34m.\u001b[0m\u001b[0mwarning\u001b[0m\u001b[0;34m(\u001b[0m\u001b[0;34m\"Invalid Message:\"\u001b[0m\u001b[0;34m,\u001b[0m \u001b[0mexc_info\u001b[0m\u001b[0;34m=\u001b[0m\u001b[0;32mTrue\u001b[0m\u001b[0;34m)\u001b[0m\u001b[0;34m\u001b[0m\u001b[0;34m\u001b[0m\u001b[0m\n",
            "\u001b[0;31mKeyboardInterrupt\u001b[0m: Interrupted by user"
          ]
        }
      ]
    },
    {
      "cell_type": "code",
      "source": [],
      "metadata": {
        "id": "SG4oQOmqCkoG"
      },
      "execution_count": null,
      "outputs": []
    }
  ]
}