{
  "nbformat": 4,
  "nbformat_minor": 0,
  "metadata": {
    "colab": {
      "provenance": [],
      "authorship_tag": "ABX9TyMEM5/fNcf/w0G+IN0TMdzf",
      "include_colab_link": true
    },
    "kernelspec": {
      "name": "python3",
      "display_name": "Python 3"
    },
    "language_info": {
      "name": "python"
    }
  },
  "cells": [
    {
      "cell_type": "markdown",
      "metadata": {
        "id": "view-in-github",
        "colab_type": "text"
      },
      "source": [
        "<a href=\"https://colab.research.google.com/github/forminju/CoS/blob/main/yejin/%5B0119%5DWeek2_Greedy_%EC%9E%83%EC%96%B4%EB%B2%84%EB%A6%B0%EA%B4%84%ED%98%B8.ipynb\" target=\"_parent\"><img src=\"https://colab.research.google.com/assets/colab-badge.svg\" alt=\"Open In Colab\"/></a>"
      ]
    },
    {
      "cell_type": "markdown",
      "source": [
        "## Silver2 | 1541번: 잃어버린 괄호"
      ],
      "metadata": {
        "id": "mQt41G_desav"
      }
    },
    {
      "cell_type": "markdown",
      "source": [
        "### 문제\n",
        "세준이는 양수와 +, -, 그리고 괄호를 가지고 식을 만들었다. 그리고 나서 세준이는 괄호를 모두 지웠다.\n",
        "\n",
        "그리고 나서 세준이는 괄호를 적절히 쳐서 이 식의 값을 최소로 만들려고 한다.\n",
        "\n",
        "괄호를 적절히 쳐서 이 식의 값을 최소로 만드는 프로그램을 작성하시오.\n",
        "\n",
        "### 입력\n",
        "첫째 줄에 식이 주어진다. 식은 ‘0’~‘9’, ‘+’, 그리고 ‘-’만으로 이루어져 있고, 가장 처음과 마지막 문자는 숫자이다. 그리고 연속해서 두 개 이상의 연산자가 나타나지 않고, 5자리보다 많이 연속되는 숫자는 없다. 수는 0으로 시작할 수 있다. 입력으로 주어지는 식의 길이는 50보다 작거나 같다.\n",
        "\n",
        "### 출력\n",
        "첫째 줄에 정답을 출력한다.\n",
        "\n",
        "------------------------------"
      ],
      "metadata": {
        "id": "61Oh16Efe1K2"
      }
    },
    {
      "cell_type": "code",
      "source": [
        "# 틀림\n",
        "text = str(input())\n",
        "\n",
        "idx_plus = [i for i in range(len(text)) if text[i]==\"+\"]\n",
        "idx_minus = [i for i in range(len(text)) if text[i]==\"-\"]\n",
        "idx = idx_plus + idx_minus\n",
        "\n",
        "if len(idx_minus) == 0:\n",
        "  print(sum([int(j) for j in text.split(\"+\")]))\n",
        "else:\n",
        "  total = 0\n",
        "  for i in range(len(idx_minus)):\n",
        "    if (i+1) == len(idx_minus):\n",
        "      sum_text = text[idx_minus[i]+1:]\n",
        "    else:\n",
        "      sum_text = text[idx_minus[i]+1:idx_minus[i+1]]\n",
        "    total += sum([int(j) for j in sum_text.split(\"+\")])\n",
        "\n",
        "  first = int(text[:min(idx)])\n",
        "  print(first - total)"
      ],
      "metadata": {
        "colab": {
          "base_uri": "https://localhost:8080/"
        },
        "id": "Q-LErFG01iMQ",
        "outputId": "7f9655c5-464a-4fb5-f8d1-33e2241b1f86"
      },
      "execution_count": 10,
      "outputs": [
        {
          "output_type": "stream",
          "name": "stdout",
          "text": [
            "55-50+40\n",
            "-35\n"
          ]
        }
      ]
    },
    {
      "cell_type": "code",
      "source": [
        "test = \"55-50+40+30-10\"\n",
        "test_minus = test.split(\"-\")\n",
        "print(test_minus)\n",
        "print(test_minus[1].split(\"+\"))"
      ],
      "metadata": {
        "colab": {
          "base_uri": "https://localhost:8080/"
        },
        "id": "iLAymMwne6Kn",
        "outputId": "abe1a611-b950-4fbe-f535-e499ec5b11b9"
      },
      "execution_count": 7,
      "outputs": [
        {
          "output_type": "stream",
          "name": "stdout",
          "text": [
            "['55', '50+40+30', '10']\n",
            "['50', '40', '30']\n"
          ]
        }
      ]
    },
    {
      "cell_type": "code",
      "source": [
        "# 정답\n",
        "text = str(input())   #수식 입력받기\n",
        "\n",
        "split_minus = text.split(\"-\")    #-로 분리\n",
        "\n",
        "total = 0    #총 계산 결과 초기화\n",
        "for i in range(len(split_minus)):\n",
        "  split_plus = split_minus[i].split(\"+\")\n",
        "  plus = 0   #덧셈 계산 결과 초기화\n",
        "  for j in range(len(split_plus)):\n",
        "    plus += int(split_plus[j])\n",
        "  if i == 0:       #첫번째 마이너스 전은 빼는게 아니라 더해줘야 함\n",
        "    total += plus\n",
        "  else:            #첫번째 마이너스 전을 제외한 모든 값들은 빼줌 \n",
        "    total -= plus\n",
        "\n",
        "print(total)"
      ],
      "metadata": {
        "colab": {
          "base_uri": "https://localhost:8080/"
        },
        "id": "5U-AOSBO327p",
        "outputId": "14eeb51b-51e1-4bef-d97b-f158540d4250"
      },
      "execution_count": 5,
      "outputs": [
        {
          "output_type": "stream",
          "name": "stdout",
          "text": [
            "00009-00009\n",
            "0\n"
          ]
        }
      ]
    },
    {
      "cell_type": "code",
      "source": [],
      "metadata": {
        "id": "9JBMe6wqlZQV"
      },
      "execution_count": null,
      "outputs": []
    }
  ]
}