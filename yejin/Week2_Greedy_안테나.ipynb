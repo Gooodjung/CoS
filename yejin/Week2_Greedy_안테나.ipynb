{
  "nbformat": 4,
  "nbformat_minor": 0,
  "metadata": {
    "colab": {
      "provenance": []
    },
    "kernelspec": {
      "name": "python3",
      "display_name": "Python 3"
    },
    "language_info": {
      "name": "python"
    }
  },
  "cells": [
    {
      "cell_type": "markdown",
      "source": [
        "## Silver3 | 18310번: 안테나"
      ],
      "metadata": {
        "id": "0z1tZ7kQK_GX"
      }
    },
    {
      "cell_type": "markdown",
      "source": [
        "### 문제\n",
        "일직선 상의 마을에 여러 채의 집이 위치해 있다. 이중에서 특정 위치의 집에 특별히 한 개의 안테나를 설치하기로 결정했다. 효율성을 위해 안테나로부터 모든 집까지의 거리의 총 합이 최소가 되도록 설치하려고 한다. 이 때 안테나는 집이 위치한 곳에만 설치할 수 있고, 논리적으로 동일한 위치에 여러 개의 집이 존재하는 것이 가능하다.\n",
        "\n",
        "집들의 위치 값이 주어질 때, 안테나를 설치할 위치를 선택하는 프로그램을 작성하시오.\n",
        "\n",
        "예를 들어 N=4이고, 각 위치가 1, 5, 7, 9일 때를 가정하자.\n",
        "\n",
        "![ant](https://upload.acmicpc.net/4da9d177-d4d8-4cf7-9f91-a75d5a6ec5e6/-/preview/)\n",
        "\n",
        "이 경우 5의 위치에 설치했을 때, 안테나로부터 모든 집까지의 거리의 총 합이 (4+0+2+4)=10으로, 최소가 된다.\n",
        "\n",
        "### 입력\n",
        "첫째 줄에 집의 수 N이 자연수로 주어진다. (1≤N≤200,000) 둘째 줄에 N채의 집에 위치가 공백을 기준으로 구분되어 1이상 100,000이하의 자연수로 주어진다.\n",
        "\n",
        "### 출력\n",
        "첫째 줄에 안테나를 설치할 위치의 값을 출력한다. 단, 안테나를 설치할 수 있는 위치 값으로 여러 개의 값이 도출될 경우 가장 작은 값을 출력한다.\n",
        "\n",
        "--------------------------"
      ],
      "metadata": {
        "id": "DFi2AttcSkVW"
      }
    },
    {
      "cell_type": "code",
      "execution_count": null,
      "metadata": {
        "colab": {
          "base_uri": "https://localhost:8080/"
        },
        "id": "gkdsbrZUIznB",
        "outputId": "d29a2ccf-85d1-4601-e6f1-824ce42e2c2f"
      },
      "outputs": [
        {
          "output_type": "stream",
          "name": "stdout",
          "text": [
            "4\n",
            "5 1 7 9\n",
            "5\n"
          ]
        }
      ],
      "source": [
        "# 시간초과\n",
        "\n",
        "n = int(input())\n",
        "homes = list(map(int, input().split()))\n",
        "\n",
        "dists = []\n",
        "for i in range(n):\n",
        "  home = homes[i]\n",
        "  dist = 0\n",
        "  for j in range(n):\n",
        "    dist += abs(home-homes[i])\n",
        "  dists.append(dist)\n",
        "\n",
        "min_idx = dists.index(min(dists))   #최소 거리를 가진 집의 인덱스\n",
        "print(homes[min_idx])"
      ]
    },
    {
      "cell_type": "markdown",
      "source": [
        "### 풀이1"
      ],
      "metadata": {
        "id": "TvUxaEvXR6ZL"
      }
    },
    {
      "cell_type": "code",
      "source": [
        "# 개선\n",
        "\n",
        "n = int(input())\n",
        "homes = sorted(list(map(int, input().split())))  #집들의 위치 정렬\n",
        "\n",
        "#중간 찾기\n",
        "if n%2 == 0:    #짝수이면 -> 중간 2개\n",
        "  mid_idx1 = int(n/2)    #중간1\n",
        "  mid_idx2 = int(n/2 - 1)  #중간2\n",
        "  dist1 = sum([abs(homes[mid_idx1]-home) for home in homes])  #중간1일 때 거리의 총합\n",
        "  dist2 = sum([abs(homes[mid_idx2]-home) for home in homes])  #중간2일 때 거리의 총합합\n",
        "  if dist1 < dist2:      #중간1일 때 거리의 총합이 중간2일 때보다 작으면\n",
        "    mid_idx = mid_idx1   #중간1이 최종 중간 지점\n",
        "  else:                  #중간2일 때가 더 작으면\n",
        "    mid_idx = mid_idx2   #중간2가 최종 중간 지점\n",
        "  print(homes[mid_idx])  #최종 중간 지점의 집번호 출력\n",
        "\n",
        "else:            #홀수이면 -> 중간 1개\n",
        "  mid_idx = int((n-1)/2)\n",
        "  print(homes[mid_idx])"
      ],
      "metadata": {
        "colab": {
          "base_uri": "https://localhost:8080/"
        },
        "id": "gtEuSNfTLf8Q",
        "outputId": "8fa6688b-e82c-4cdb-8280-1fd4c66e9139"
      },
      "execution_count": 7,
      "outputs": [
        {
          "output_type": "stream",
          "name": "stdout",
          "text": [
            "4\n",
            "5 1 7 9\n",
            "5\n"
          ]
        }
      ]
    },
    {
      "cell_type": "markdown",
      "source": [
        "### 풀이2"
      ],
      "metadata": {
        "id": "5N-30atsR7vm"
      }
    },
    {
      "cell_type": "code",
      "source": [
        "# 개선2\n",
        "n = int(input())\n",
        "homes = sorted(list(map(int, input().split())))  #집들의 위치 정렬\n",
        "print(homes[(n-1)//2])   #중간값이 가장 작은 총합\n",
        "#짝수인 경우 문제 조건에 따라 가운데 두 개의 값 중 더 작은 값이 중간"
      ],
      "metadata": {
        "colab": {
          "base_uri": "https://localhost:8080/"
        },
        "id": "4KgXgozAP5tp",
        "outputId": "1e25f665-9758-47f3-b835-bd9570a608ab"
      },
      "execution_count": 8,
      "outputs": [
        {
          "output_type": "stream",
          "name": "stdout",
          "text": [
            "4\n",
            "5 1 7 9\n",
            "5\n"
          ]
        }
      ]
    },
    {
      "cell_type": "code",
      "source": [],
      "metadata": {
        "id": "M9_5uJcPR2aS"
      },
      "execution_count": null,
      "outputs": []
    }
  ]
}