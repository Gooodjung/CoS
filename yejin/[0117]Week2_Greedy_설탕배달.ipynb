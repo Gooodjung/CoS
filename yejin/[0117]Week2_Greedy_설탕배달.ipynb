{
  "nbformat": 4,
  "nbformat_minor": 0,
  "metadata": {
    "colab": {
      "provenance": []
    },
    "kernelspec": {
      "name": "python3",
      "display_name": "Python 3"
    },
    "language_info": {
      "name": "python"
    }
  },
  "cells": [
    {
      "cell_type": "markdown",
      "source": [
        "## Silver4 | 2839번: 설탕 배달"
      ],
      "metadata": {
        "id": "nZkPw6op3bG-"
      }
    },
    {
      "cell_type": "markdown",
      "source": [
        "### 문제\n",
        "상근이는 요즘 설탕공장에서 설탕을 배달하고 있다. 상근이는 지금 사탕가게에 설탕을 정확하게 N킬로그램을 배달해야 한다. 설탕공장에서 만드는 설탕은 봉지에 담겨져 있다. 봉지는 3킬로그램 봉지와 5킬로그램 봉지가 있다.\n",
        "\n",
        "상근이는 귀찮기 때문에, 최대한 적은 봉지를 들고 가려고 한다. 예를 들어, 18킬로그램 설탕을 배달해야 할 때, 3킬로그램 봉지 6개를 가져가도 되지만, 5킬로그램 3개와 3킬로그램 1개를 배달하면, 더 적은 개수의 봉지를 배달할 수 있다.\n",
        "\n",
        "상근이가 설탕을 정확하게 N킬로그램 배달해야 할 때, 봉지 몇 개를 가져가면 되는지 그 수를 구하는 프로그램을 작성하시오.\n",
        "\n",
        "### 입력\n",
        "첫째 줄에 N이 주어진다. (3 ≤ N ≤ 5000)\n",
        "\n",
        "### 출력\n",
        "상근이가 배달하는 봉지의 최소 개수를 출력한다. 만약, 정확하게 N킬로그램을 만들 수 없다면 -1을 출력한다."
      ],
      "metadata": {
        "id": "-GM_vOmy30zi"
      }
    },
    {
      "cell_type": "markdown",
      "source": [
        "#### 풀이1"
      ],
      "metadata": {
        "id": "QpL7u1kyBHtO"
      }
    },
    {
      "cell_type": "code",
      "source": [
        "n = int(input())\n",
        "\n",
        "cnt = 0  #봉지 개수 초기화\n",
        "while True:\n",
        "  if n%5 == 0:    #5로 나눈 나머지가 0이면\n",
        "    cnt += n//5   #봉지 개수에 5로 나눈 몫을 더함\n",
        "    break         #반복 종료\n",
        "  else:         #5로 나눈 나머지가 0이 아니면(5의 배수가 아니면)\n",
        "    n -= 3      #3을 빼주고\n",
        "    cnt += 1    #봉지 개수에 +1\n",
        "\n",
        "  if n < 0:   #3을 계속 빼주다가 음수가 되면 정확하게 N을 만들 수 없으므로\n",
        "    break     #반복 종료\n",
        "\n",
        "if n < 0:     #정확하게 N을 만들 수 없으므로\n",
        "  print(-1)   #-1 출력\n",
        "else:\n",
        "  print(cnt)"
      ],
      "metadata": {
        "colab": {
          "base_uri": "https://localhost:8080/"
        },
        "id": "M03OLTrRBGSm",
        "outputId": "0f6b5b27-1ab5-485a-a35c-f2b22c060118"
      },
      "execution_count": 8,
      "outputs": [
        {
          "output_type": "stream",
          "name": "stdout",
          "text": [
            "4\n",
            "-1\n"
          ]
        }
      ]
    },
    {
      "cell_type": "markdown",
      "source": [
        "#### 풀이2"
      ],
      "metadata": {
        "id": "U83SJAblBMjP"
      }
    },
    {
      "cell_type": "markdown",
      "source": [
        "10 = 5x2 + 0  \n",
        "11 = 5x2 + 1 => 5x1 + 3x2 (유실-1, 유입+2 --> 총 +1)   \n",
        "12 = 5x2 + 2 => 5x1 + 7 => 5x0 + 3x4 (유실 -2, 유입 +4 --> 총 +2)  \n",
        "13 = 5x2 + 3 => 5x2 + 3x1 (유실 0, 유입 +1 --> 총 +1)  \n",
        "14 = 5x2 + 4 => 5x1 + 3x3 (유실 -1, 유입 +3 --> 총 +2)  "
      ],
      "metadata": {
        "id": "Vxlo3vVy4LEP"
      }
    },
    {
      "cell_type": "code",
      "execution_count": 6,
      "metadata": {
        "colab": {
          "base_uri": "https://localhost:8080/"
        },
        "id": "XQb2u9cS2EW9",
        "outputId": "e3c280f6-176c-45ee-b9c3-88cfe4211b35"
      },
      "outputs": [
        {
          "output_type": "stream",
          "name": "stdout",
          "text": [
            "11\n",
            "3\n"
          ]
        }
      ],
      "source": [
        "n = int(input())  # n >= 3\n",
        "print([n//5+[0,1,2,1,2][n%5],-1][n in (4, 7)])"
      ]
    }
  ]
}
