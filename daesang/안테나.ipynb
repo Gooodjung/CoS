{
  "nbformat": 4,
  "nbformat_minor": 0,
  "metadata": {
    "colab": {
      "provenance": [],
      "authorship_tag": "ABX9TyOVuJnpk118VKVG10eZAtSA"
    },
    "kernelspec": {
      "name": "python3",
      "display_name": "Python 3"
    },
    "language_info": {
      "name": "python"
    }
  },
  "cells": [
    {
      "cell_type": "code",
      "execution_count": null,
      "metadata": {
        "colab": {
          "base_uri": "https://localhost:8080/"
        },
        "id": "RJ7J3CBBXH2L",
        "outputId": "1829c920-e8a5-4a8f-ba49-31f6d76f8f4d"
      },
      "outputs": [
        {
          "output_type": "stream",
          "name": "stdout",
          "text": [
            "4\n",
            "9 1 5 7\n",
            "5\n"
          ]
        }
      ],
      "source": [
        "# 중앙값(2개면 작은 값) 구하기와 동치\n",
        "N = int(input())-1\n",
        "print(sorted(map(int,input().split()))[N//2])"
      ]
    },
    {
      "cell_type": "code",
      "source": [
        "# 보수 인덱싱\n",
        "N = int(input())\n",
        "print(sorted(map(int,input().split()))[~N//2])"
      ],
      "metadata": {
        "colab": {
          "base_uri": "https://localhost:8080/"
        },
        "id": "ApxsXIm1HyTV",
        "outputId": "8ba4d230-acab-4328-e754-a0bedae1caba"
      },
      "execution_count": null,
      "outputs": [
        {
          "output_type": "stream",
          "name": "stdout",
          "text": [
            "6\n",
            "24 5 1 24 4 100\n",
            "5\n"
          ]
        }
      ]
    },
    {
      "cell_type": "code",
      "source": [
        "# 보수 연산자: ~n = -(n+1)\n",
        "~(-234)"
      ],
      "metadata": {
        "colab": {
          "base_uri": "https://localhost:8080/"
        },
        "id": "Kf-UF_se_wCK",
        "outputId": "5a0d2a7c-02e9-4e4a-9427-43fa0eec3870"
      },
      "execution_count": null,
      "outputs": [
        {
          "output_type": "execute_result",
          "data": {
            "text/plain": [
              "233"
            ]
          },
          "metadata": {},
          "execution_count": 26
        }
      ]
    }
  ]
}