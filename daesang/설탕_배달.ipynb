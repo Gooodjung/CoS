{
  "nbformat": 4,
  "nbformat_minor": 0,
  "metadata": {
    "colab": {
      "provenance": [],
      "authorship_tag": "ABX9TyM9zBHrJyxpKorJtIkKiMYS"
    },
    "kernelspec": {
      "name": "python3",
      "display_name": "Python 3"
    },
    "language_info": {
      "name": "python"
    }
  },
  "cells": [
    {
      "cell_type": "code",
      "source": [
        "N = int(input())\n",
        "for i in range(N//5,-1,-1):\n",
        "  if (k:=N-5*i)%3==0:\n",
        "    print(i+k//3)\n",
        "    break\n",
        "else:\n",
        "  print(-1)"
      ],
      "metadata": {
        "colab": {
          "base_uri": "https://localhost:8080/"
        },
        "id": "uR7VIq8BZDW6",
        "outputId": "f081ff37-5d37-4a57-9bd3-7760492f8ba7"
      },
      "execution_count": null,
      "outputs": [
        {
          "output_type": "stream",
          "name": "stdout",
          "text": [
            "18\n",
            "4\n"
          ]
        }
      ]
    },
    {
      "cell_type": "code",
      "source": [
        "N = int(input())\n",
        "print([N//5+[0,1,2,1,2][N%5],-1][N in [4,7]])\n",
        "# 5로 나눈 몫을 충분히 줄일 수 없는 예외 케이스는 1,2,4,7\n",
        "# 입력은 3 이상에서 주어지므로 고려해야 할 예외 케이스는 4,7\n",
        "# 4,7이 아닐 때: 5로 나눈 나머지가 3의 배수가 되는지 확인 후 처리\n",
        "# 3의 배수이면, 즉, 0,3이면 간단히 각각 0,1(3으로 나눈 몫)을 더해주면 끝\n",
        "# 3의 배수가 아니면, 즉, 1,2,4이면 5로 나눈 몫을 하나 줄여서 생각\n",
        "# 그러면 나머지는 1,2,4가 아닌 6,7,9가 되고 7을 제외하면 3의 배수이므로 -1+2,-1+3, 즉, 1,2를 더해주면 끝\n",
        "# 7인 경우: 5로 나눈 몫을 한번 더 줄이면 나머지가 12가 되고 3의 배수이므로 -2+4, 즉, 2를 더해주면 끝\n",
        "# 모듈러(나머지) 인덱싱으로 각 케이스에 할당"
      ],
      "metadata": {
        "colab": {
          "base_uri": "https://localhost:8080/"
        },
        "id": "MxyeaTX4fff-",
        "outputId": "3dedbd73-984a-4249-9ef2-3a60e6c0f975"
      },
      "execution_count": null,
      "outputs": [
        {
          "output_type": "stream",
          "name": "stdout",
          "text": [
            "18\n",
            "4\n"
          ]
        }
      ]
    },
    {
      "cell_type": "code",
      "source": [
        "# 참고; 위 모듈러 방식의 결과가 나오도록 역으로 설계한 코드\n",
        "# hint: 예외 케이스 제외하면, 결과는 N을 5로 나눈 나머지 0|1|2|3|4에 따라, N을 5로 나눈 몫 + 0|1|2|1|2\n",
        "# 직접 손으로 써보지 않으면 무슨 의미인지 알기 어려움\n",
        "# N=5x+k(단, k는 5로 나눈 나머지)로 두고 손으로 써보기\n",
        "N = int(input())\n",
        "print(-(N in [4,7]) or N-2*N//5*2)"
      ],
      "metadata": {
        "colab": {
          "base_uri": "https://localhost:8080/"
        },
        "id": "IolrRoyDmmMz",
        "outputId": "c87db724-f38f-4145-e436-36dc809d79e8"
      },
      "execution_count": null,
      "outputs": [
        {
          "output_type": "stream",
          "name": "stdout",
          "text": [
            "18\n",
            "4\n"
          ]
        }
      ]
    },
    {
      "cell_type": "code",
      "source": [
        "# while문으로 반복\n",
        "N = int(input())\n",
        "c = 0\n",
        "while N>=0:\n",
        "  if N%5==0:\n",
        "    c += N//5\n",
        "    print(c)\n",
        "    break\n",
        "  N -= 3\n",
        "  c += 1\n",
        "else:\n",
        "  print(-1)"
      ],
      "metadata": {
        "colab": {
          "base_uri": "https://localhost:8080/"
        },
        "id": "8abxPgrDgEVB",
        "outputId": "d30bad20-d3d9-4c84-8b51-d8bbf4720aa1"
      },
      "execution_count": null,
      "outputs": [
        {
          "output_type": "stream",
          "name": "stdout",
          "text": [
            "3\n",
            "1\n"
          ]
        }
      ]
    },
    {
      "cell_type": "code",
      "source": [
        "# 3으로 먼저 채우는 방식\n",
        "N = int(input())\n",
        "n = -1\n",
        "for t in range(N//3+1): # 3을 적게 넣는 순으로 반복\n",
        "  for s in range(N//5+1):\n",
        "    if 5*s+3*t==N:\n",
        "      n = s+t\n",
        "      break\n",
        "  if n!=-1:\n",
        "    break\n",
        "print(n)"
      ],
      "metadata": {
        "colab": {
          "base_uri": "https://localhost:8080/"
        },
        "id": "DB9oBOVNXbGg",
        "outputId": "0a02e533-edf9-4362-92e0-ac0b20cb6346"
      },
      "execution_count": null,
      "outputs": [
        {
          "output_type": "stream",
          "name": "stdout",
          "text": [
            "6\n",
            "2\n"
          ]
        }
      ]
    }
  ]
}