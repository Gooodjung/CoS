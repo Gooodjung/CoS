{
  "nbformat": 4,
  "nbformat_minor": 0,
  "metadata": {
    "colab": {
      "provenance": [],
      "authorship_tag": "ABX9TyNzCXu9jg4IKfGeBQqpKBcX"
    },
    "kernelspec": {
      "name": "python3",
      "display_name": "Python 3"
    },
    "language_info": {
      "name": "python"
    }
  },
  "cells": [
    {
      "cell_type": "code",
      "execution_count": null,
      "metadata": {
        "colab": {
          "base_uri": "https://localhost:8080/"
        },
        "id": "rfT7QNI-fRyZ",
        "outputId": "a18d16bf-4623-4061-e1dc-11bf7bc10fd3"
      },
      "outputs": [
        {
          "output_type": "stream",
          "name": "stdout",
          "text": [
            "13\n",
            "5\n"
          ]
        }
      ],
      "source": [
        "n = int(input())\n",
        "for i in range(n//5,-1,-1):\n",
        "  k = n-5*i\n",
        "  if k%2==0:\n",
        "    print(i+k//2)\n",
        "    break\n",
        "else:\n",
        "  print(-1)"
      ]
    },
    {
      "cell_type": "code",
      "source": [
        "n = int(input())\n",
        "print([n//5+[0,2,1,3,2][n%5],-1][n in (1,3)])\n",
        "# 5로 나눈 몫을 더 이상 줄일 수 없는 예외 케이스는 1,3\n",
        "# 1과 3이 아닐 때: 5로 나눈 나머지가 2의 배수가 되는지 확인 후 처리\n",
        "# 2의 배수이면, 즉, 0,2,4이면 간단\n",
        "# 2의 배수가 아니면, 즉, 1,3이면 5로 나눈 몫을 하나 줄여서 생각\n",
        "# 그러면 나머지는 1,3이 아닌 6,8이 되어 2의 배수이고 몫은 3,4\n",
        "# 단, 5로 나눈 몫을 하나 줄였기 때문에 2,3으로 몫을 계산(동전의 개수 카운트)"
      ],
      "metadata": {
        "colab": {
          "base_uri": "https://localhost:8080/"
        },
        "id": "asbgM-9wmPkm",
        "outputId": "d1d27d42-88d2-4a06-80c4-0875fd430e66"
      },
      "execution_count": null,
      "outputs": [
        {
          "output_type": "stream",
          "name": "stdout",
          "text": [
            "13\n",
            "5\n"
          ]
        }
      ]
    }
  ]
}