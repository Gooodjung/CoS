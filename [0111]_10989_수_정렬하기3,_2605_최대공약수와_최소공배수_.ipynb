{
  "nbformat": 4,
  "nbformat_minor": 0,
  "metadata": {
    "colab": {
      "provenance": []
    },
    "kernelspec": {
      "name": "python3",
      "display_name": "Python 3"
    },
    "language_info": {
      "name": "python"
    }
  },
  "cells": [
    {
      "cell_type": "markdown",
      "source": [
        "## **[10989번] 수 정렬하기 3**\n",
        "#### **문제**\n",
        "N개의 수가 주어졌을 때, 이를 오름차순으로 정렬하는 프로그램을 작성하시오.\n",
        "\n",
        "#### **입력**\n",
        "첫째 줄에 수의 개수 N(1 ≤ N ≤ 10,000,000)이 주어진다. 둘째 줄부터 N개의 줄에는 수가 주어진다. 이 수는 10,000보다 작거나 같은 자연수이다.\n",
        "\n",
        "#### **출력**\n",
        "첫째 줄부터 N개의 줄에 오름차순으로 정렬한 결과를 한 줄에 하나씩 출력한다."
      ],
      "metadata": {
        "id": "l9YmUH7sMtt_"
      }
    },
    {
      "cell_type": "code",
      "execution_count": null,
      "metadata": {
        "id": "Dl-fnSeOGaWN"
      },
      "outputs": [],
      "source": [
        "N = int(input())\n",
        "lst = []\n",
        "for i in range(N):\n",
        "  a = int(input()) \n",
        "  lst.append(a)\n",
        "lst.sort()\n",
        "for i in lst: print(i)"
      ]
    },
    {
      "cell_type": "markdown",
      "source": [
        "[위 코드 리뷰]\n",
        "\n",
        "틀린 풀이는 아니지만 시간 제한과 메모리 제한 때문에 오답이다.\n",
        "\n",
        "- 시간 제한\n",
        "\n",
        "input()은 시간이 오래 걸리기 때문에 sys.stdin.readline()으로 대체해야 한다.\n",
        "- 메모리 제한\n",
        "\n",
        "반복문으로 append() 를 하면 계속 메모리 재할당되어 메모리가 비효율적으로 사용된다.\n",
        "\n",
        "문제의 입력값의 범위가 10000보다 작거나 같은 수이기 때문에 10001개의 원소를 갖는 공백 리스트를 만들고 인덱스를 활용하여 문제를 해결한다. \n"
      ],
      "metadata": {
        "id": "zSIyFsVXJ7Ir"
      }
    },
    {
      "cell_type": "code",
      "source": [
        "import sys\n",
        "N = int(sys.stdin.readline())\n",
        "# 백준에서는 위 풀이로 정답이 나오는데 \n",
        "# 코랩에서는 ValueError: invalid literal for int() with base 10: ''라고 오류가 뜹니다...왜일까요...\n",
        "# 코랩에서만 안 된다고 합니다!\n",
        "lst = [0]*10001\n",
        "for _ in range(N):\n",
        "    a = int(sys.stdin.readline())\n",
        "    lst[a-1] += 1 # 입력받은 수에 1을 뺀 인덱스 위치에 1을 더함\n",
        "                  # 위 과정이 끝나면 [2,2,2,1,2,0,1,0,0,0,....]\n",
        "\n",
        "for i in range(10001):\n",
        "    if lst[i] != 0: # 해당 인덱스에서 값이 0이 아니면 (즉 위에서 값이 존재했다면)\n",
        "        for j in range(lst[i]): # lst[i] 의 수만큼 해당 인덱스+1 를 출력\n",
        "            print(i+1)"
      ],
      "metadata": {
        "colab": {
          "base_uri": "https://localhost:8080/",
          "height": 245
        },
        "id": "D0QhgMYqHhFB",
        "outputId": "8f386bb3-6b3c-41e3-cff2-4b4376fba5bb"
      },
      "execution_count": null,
      "outputs": [
        {
          "output_type": "error",
          "ename": "ValueError",
          "evalue": "ignored",
          "traceback": [
            "\u001b[0;31m---------------------------------------------------------------------------\u001b[0m",
            "\u001b[0;31mValueError\u001b[0m                                Traceback (most recent call last)",
            "\u001b[0;32m<ipython-input-4-e9cbd884193f>\u001b[0m in \u001b[0;36m<module>\u001b[0;34m\u001b[0m\n\u001b[1;32m      1\u001b[0m \u001b[0;32mimport\u001b[0m \u001b[0msys\u001b[0m\u001b[0;34m\u001b[0m\u001b[0;34m\u001b[0m\u001b[0m\n\u001b[0;32m----> 2\u001b[0;31m \u001b[0mN\u001b[0m \u001b[0;34m=\u001b[0m \u001b[0mint\u001b[0m\u001b[0;34m(\u001b[0m\u001b[0msys\u001b[0m\u001b[0;34m.\u001b[0m\u001b[0mstdin\u001b[0m\u001b[0;34m.\u001b[0m\u001b[0mreadline\u001b[0m\u001b[0;34m(\u001b[0m\u001b[0;34m)\u001b[0m\u001b[0;34m)\u001b[0m\u001b[0;34m\u001b[0m\u001b[0;34m\u001b[0m\u001b[0m\n\u001b[0m\u001b[1;32m      3\u001b[0m \u001b[0mlst\u001b[0m \u001b[0;34m=\u001b[0m \u001b[0;34m[\u001b[0m\u001b[0;36m0\u001b[0m\u001b[0;34m]\u001b[0m\u001b[0;34m*\u001b[0m\u001b[0;36m10001\u001b[0m\u001b[0;34m\u001b[0m\u001b[0;34m\u001b[0m\u001b[0m\n\u001b[1;32m      4\u001b[0m \u001b[0;32mfor\u001b[0m \u001b[0m_\u001b[0m \u001b[0;32min\u001b[0m \u001b[0mrange\u001b[0m\u001b[0;34m(\u001b[0m\u001b[0mN\u001b[0m\u001b[0;34m)\u001b[0m\u001b[0;34m:\u001b[0m\u001b[0;34m\u001b[0m\u001b[0;34m\u001b[0m\u001b[0m\n\u001b[1;32m      5\u001b[0m     \u001b[0ma\u001b[0m \u001b[0;34m=\u001b[0m \u001b[0mint\u001b[0m\u001b[0;34m(\u001b[0m\u001b[0msys\u001b[0m\u001b[0;34m.\u001b[0m\u001b[0mstdin\u001b[0m\u001b[0;34m.\u001b[0m\u001b[0mreadline\u001b[0m\u001b[0;34m(\u001b[0m\u001b[0;34m)\u001b[0m\u001b[0;34m)\u001b[0m\u001b[0;34m\u001b[0m\u001b[0;34m\u001b[0m\u001b[0m\n",
            "\u001b[0;31mValueError\u001b[0m: invalid literal for int() with base 10: ''"
          ]
        }
      ]
    },
    {
      "cell_type": "markdown",
      "source": [
        "## **[2605번] 최대공약수와 최소공배수**\n",
        "#### **문제**\n",
        "두 개의 자연수를 입력받아 최대 공약수와 최소 공배수를 출력하는 프로그램을 작성하시오.\n",
        "\n",
        "#### **입력**\n",
        "첫째 줄에는 두 개의 자연수가 주어진다. 이 둘은 10,000이하의 자연수이며 사이에 한 칸의 공백이 주어진다.\n",
        "\n",
        "#### **출력**\n",
        "첫째 줄에는 입력으로 주어진 두 수의 최대공약수를, 둘째 줄에는 입력으로 주어진 두 수의 최소 공배수를 출력한다."
      ],
      "metadata": {
        "id": "Th8KnHUjbjZa"
      }
    },
    {
      "cell_type": "code",
      "source": [
        "a, b = map(int, input().split())\n",
        "\n",
        "def gcd(a, b): # 최대 공약수\n",
        "    while b > 0:\n",
        "        a, b = b, a % b\n",
        "    return a\n",
        "\n",
        "def lcm(a, b): # 최소 공배수\n",
        "    return a * b // gcd(a, b)\n",
        "\n",
        "print(gcd(a, b))\n",
        "print(lcm(a, b))"
      ],
      "metadata": {
        "colab": {
          "base_uri": "https://localhost:8080/"
        },
        "id": "62KhC0NzbkKi",
        "outputId": "583564dd-ad7d-4b5c-c649-370dbdc66d25"
      },
      "execution_count": null,
      "outputs": [
        {
          "output_type": "stream",
          "name": "stdout",
          "text": [
            "24 18\n",
            "6\n",
            "72\n"
          ]
        }
      ]
    },
    {
      "cell_type": "markdown",
      "source": [
        "[풀이과정]\n",
        "\n",
        "- 최대공약수 -> **유클리드 호제법**\n",
        "\n",
        "호제법이란 두 수가 서로 상대방 수를 나누어서 결국 원하는 수를 얻는 알고리즘을 나타낸다.\n",
        "\n",
        "2개의 자연수 a, b에 대해서 a를 b로 나눈 나머지를 r이라 하면(단, a > b),\n",
        "a와 b의 최대공약수는 b와 r의 최대공약수와 같다.\n",
        "\n",
        "이 성질에 따라, b를 r로 나눈 나머지 r'를 구하고, 다시 r을 r'로 나눈 나머지를 구하는 과정을 반복하여 나머지가 0이 되었을 때 나누는 수가 a와 b의 최대공약수이다.\n",
        "\n",
        "- 최소공배수\n",
        "\n",
        "최소공배수는 a, b의 곱을 a, b의 최대 공약수로 나누면 된다.\n",
        "\n",
        "(최소공배수 x 최대 공약수) = gcd^2 +p * q [a, b은 서로소] => a * b"
      ],
      "metadata": {
        "id": "9Fy-Gv8LdXK7"
      }
    },
    {
      "cell_type": "code",
      "source": [
        "import math\n",
        "\n",
        "a, b = map(int, input().split())\n",
        "\n",
        "print(math.gcd(a, b))\n",
        "print(math.lcm(a, b))\n",
        "# python 3.9 이상 버전에서는 math 에 gcd, lcm 함수 있음"
      ],
      "metadata": {
        "id": "2rb8NYb3cIEU"
      },
      "execution_count": null,
      "outputs": []
    }
  ]
}